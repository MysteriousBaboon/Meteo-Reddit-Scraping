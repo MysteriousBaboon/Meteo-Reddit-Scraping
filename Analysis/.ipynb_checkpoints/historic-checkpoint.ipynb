{
 "cells": [
  {
   "cell_type": "code",
   "execution_count": 115,
   "metadata": {},
   "outputs": [
    {
     "name": "stdout",
     "output_type": "stream",
     "text": [
      "<pandas.core.groupby.generic.SeriesGroupBy object at 0x7fbc1c8f2490>\n",
      "{'01': 7.5, '02': 6.2, '03': 5.2, '04': 4.7, '05': 5.1, '06': 4.8, '07': 6.8, '08': 8.1, '09': 5.8, 10: 4.2, 11: 5.6, 12: 7.0, 13: 9.2, 14: 9.0, 15: 8.7, 16: 8.7, 17: 8.3, 18: 5.8, 19: 6.7, 20: 6.1, 21: 5.2, 22: 4.7, 23: 4.0, 24: 2.8, 25: 5.3, 26: 8.0, 27: 8.2, 28: 6.2, 29: 5.8}\n"
     ]
    }
   ],
   "source": [
    "import matplotlib.pyplot as plt\n",
    "import numpy as np\n",
    "import pandas as pd\n",
    "\n",
    "df_meteo = pd.read_csv(\"../Meteo/temperature.csv\")\n",
    "df_comments = pd.read_csv(\"../Reddit/Comments_Per_Day_2019.csv\" ,index_col=0)\n",
    "\n",
    "\n",
    "x = np.linspace(0.1, 2 * np.pi, 41)\n",
    "y = np.exp(np.sin(x))\n",
    "\n",
    "#plt.stem(x, y)\n",
    "#plt.show()\n",
    "df_meteo\n",
    "\n",
    "df_meteo.columns = [c.replace(' ', '_') for c in df_meteo.columns]\n",
    "df_meteo = df_meteo.replace(to_replace=['\\%', 'km/h','mm','°', 'km'],value=[\"\",\"\",\"\",\"\",\"\"], regex= True)\n",
    "df_meteo['Température_max'] = df_meteo['Température_max'].astype('int64')\n",
    "\n",
    "grouped_df = df_meteo.groupby(\"Date_du_jour\")\n",
    "print(grouped_df['Température_max'])\n",
    "\n",
    "all_values = dict()\n",
    "for day in range(1,30):\n",
    "    if day<10:\n",
    "        day=\"0\"+str(day)\n",
    "    df_meteo_day=df_meteo.loc[df_meteo['Date_du_jour']==f\"{day}/01/2019\"]\n",
    "    all_values[day] = df_meteo_day[\"Température_max\"].mean().round(1)\n",
    "\n",
    "print(all_values)\n",
    "\n"
   ]
  },
  {
   "cell_type": "code",
   "execution_count": 29,
   "metadata": {},
   "outputs": [],
   "source": [
    "df_meteo=df_meteo['Couverture_nuageuse'].replace('\\%','', regex=True).astype(int)\n"
   ]
  },
  {
   "cell_type": "code",
   "execution_count": null,
   "metadata": {},
   "outputs": [],
   "source": []
  },
  {
   "cell_type": "code",
   "execution_count": null,
   "metadata": {},
   "outputs": [],
   "source": []
  },
  {
   "cell_type": "code",
   "execution_count": null,
   "metadata": {},
   "outputs": [],
   "source": [
    "print(df_comments)\n",
    "f = pd.to_datetime(df_comments[\"date\"].iloc[0])\n",
    "f.day\n",
    "faire une moyenne en fonctin des jours pour la régions\n"
   ]
  }
 ],
 "metadata": {
  "kernelspec": {
   "display_name": "Python 3",
   "language": "python",
   "name": "python3"
  },
  "language_info": {
   "codemirror_mode": {
    "name": "ipython",
    "version": 3
   },
   "file_extension": ".py",
   "mimetype": "text/x-python",
   "name": "python",
   "nbconvert_exporter": "python",
   "pygments_lexer": "ipython3",
   "version": "3.8.5"
  }
 },
 "nbformat": 4,
 "nbformat_minor": 4
}
